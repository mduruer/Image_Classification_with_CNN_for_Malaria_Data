{
  "cells": [
    {
      "cell_type": "code",
      "execution_count": null,
      "metadata": {
        "id": "41S8zOAr9Pll"
      },
      "outputs": [],
      "source": [
        "# Image Classification with CNN for Malaria Data"
      ]
    },
    {
      "cell_type": "code",
      "execution_count": null,
      "metadata": {
        "id": "VEZ2kwqs9gaK"
      },
      "outputs": [],
      "source": [
        "#Infected / Uninfected"
      ]
    },
    {
      "cell_type": "code",
      "source": [
        "from google.colab import drive\n",
        "drive.mount('/gdrive')"
      ],
      "metadata": {
        "colab": {
          "base_uri": "https://localhost:8080/"
        },
        "id": "LExGik80VuIN",
        "outputId": "68dd6cae-1b90-45b2-8f81-0125544ab1ee"
      },
      "execution_count": 33,
      "outputs": [
        {
          "output_type": "stream",
          "name": "stdout",
          "text": [
            "Mounted at /gdrive\n"
          ]
        }
      ]
    },
    {
      "cell_type": "code",
      "source": [
        "%cd /gdrive/My Drive/"
      ],
      "metadata": {
        "colab": {
          "base_uri": "https://localhost:8080/"
        },
        "id": "F3-IsipcWgb-",
        "outputId": "f4dababb-fee1-48de-8808-4857e783283c"
      },
      "execution_count": 35,
      "outputs": [
        {
          "output_type": "stream",
          "name": "stdout",
          "text": [
            "/gdrive/My Drive\n"
          ]
        }
      ]
    },
    {
      "cell_type": "code",
      "source": [
        "#%cp -av /content/Uninfected/ /content/cell_images/Uninfected/\n",
        "#%cp -av /content/Parasitized/ /content/cell_images/Parasitized/\n"
      ],
      "metadata": {
        "id": "mA6eCxkjWnn_"
      },
      "execution_count": 59,
      "outputs": []
    },
    {
      "cell_type": "code",
      "execution_count": 1,
      "metadata": {
        "id": "0DG7qHiN_nKP"
      },
      "outputs": [],
      "source": [
        "#pip install kaggle"
      ]
    },
    {
      "cell_type": "code",
      "execution_count": null,
      "metadata": {
        "id": "ggEJxNSGDeUH"
      },
      "outputs": [],
      "source": [
        "#from google.colab import drive\n",
        "#drive.mount('content/drive')"
      ]
    },
    {
      "cell_type": "code",
      "execution_count": null,
      "metadata": {
        "id": "D9Y0Kktj_xEs"
      },
      "outputs": [],
      "source": [
        "##!kaggle datasets download -d iarunava/cell-images-for-detecting-malaria\n",
        "#!kaggle datasets download -d debeshjha1/kvasirinstrument"
      ]
    },
    {
      "cell_type": "code",
      "execution_count": null,
      "metadata": {
        "colab": {
          "base_uri": "https://localhost:8080/"
        },
        "id": "HT7EB82MGVgk",
        "outputId": "7ac0de46-5291-4fab-c479-acd87a21f59d"
      },
      "outputs": [
        {
          "name": "stdout",
          "output_type": "stream",
          "text": [
            "Archive:  /content/Parasitized.rar\n",
            "  End-of-central-directory signature not found.  Either this file is not\n",
            "  a zipfile, or it constitutes one disk of a multi-part archive.  In the\n",
            "  latter case the central directory and zipfile comment will be found on\n",
            "  the last disk(s) of this archive.\n",
            "unzip:  cannot find zipfile directory in one of /content/Parasitized.rar or\n",
            "        /content/Parasitized.rar.zip, and cannot find /content/Parasitized.rar.ZIP, period.\n"
          ]
        }
      ],
      "source": [
        "!unzip /content/Parasitized.rar"
      ]
    },
    {
      "cell_type": "code",
      "execution_count": 65,
      "metadata": {
        "id": "mJ12Eb7V9mAM"
      },
      "outputs": [],
      "source": [
        "#Kütüphanerlerin Yüklenmesi\n",
        "import tensorflow as tf\n",
        "from tensorflow.keras import Sequential\n",
        "from tensorflow.keras.layers import Conv2D,MaxPool2D,Dropout,Flatten,Dense,BatchNormalization\n",
        "from tensorflow.keras.preprocessing.image import ImageDataGenerator\n",
        "from tensorflow.keras.callbacks import EarlyStopping"
      ]
    },
    {
      "cell_type": "code",
      "execution_count": 66,
      "metadata": {
        "id": "MuW1ULYS9uoO"
      },
      "outputs": [],
      "source": [
        "import numpy as np\n",
        "import pandas as pd\n",
        "import matplotlib.pyplot as plt"
      ]
    },
    {
      "cell_type": "code",
      "execution_count": null,
      "metadata": {
        "id": "3E2DIpiU5WjX"
      },
      "outputs": [],
      "source": [
        "#from zipfile import ZipFile\n",
        "#ZipFile(\"Parasitized.rar\").extractall(\"/content/Parasitized\")"
      ]
    },
    {
      "cell_type": "code",
      "execution_count": 17,
      "metadata": {
        "id": "yEiE9d4x8qa0"
      },
      "outputs": [],
      "source": [
        "#pip install patool"
      ]
    },
    {
      "cell_type": "code",
      "execution_count": 76,
      "metadata": {
        "id": "Jx-y7hco8dKn"
      },
      "outputs": [],
      "source": [
        "#     0     Successful operation.\n",
        "#     1     Non fatal error(s) occurred.\n",
        "#     2     A fatal error occurred.\n",
        "#     3     Invalid checksum. Data is damaged.\n",
        "#     4     Attempt to modify an archive locked by 'k' command.\n",
        "#     5     Write error.\n",
        "#     6     File open error.\n",
        "#     7     Wrong command line option.\n",
        "#     8     Not enough memory.\n",
        "#     9     File create error\n",
        "#    10     No files matching the specified mask and options were found.\n",
        "#    11     Wrong password.\n",
        "#   255     User stopped the process.\n",
        "\n",
        "#import patoolib\n",
        "import patoolib\n",
        "#patoolib.extract_archive(\"/content/Uninfected.rar\", outdir=\"/content/\")\n",
        "#patoolib.extract_archive(\"/content/Parasitized.rar\", outdir=\"/content/\")\n",
        "#patoolib.extract_archive(\"/content/cell_images.rar\", outdir=\"/content/\")"
      ]
    },
    {
      "cell_type": "code",
      "execution_count": null,
      "metadata": {
        "id": "BPX6LE9KH486"
      },
      "outputs": [],
      "source": [
        "## Traing and TEst Data Set"
      ]
    },
    {
      "cell_type": "code",
      "execution_count": 67,
      "metadata": {
        "colab": {
          "base_uri": "https://localhost:8080/",
          "height": 615
        },
        "id": "M03jJcro_D3w",
        "outputId": "6f361699-fe28-4b1a-b5ea-9ece6657f410"
      },
      "outputs": [
        {
          "output_type": "execute_result",
          "data": {
            "text/plain": [
              "(([], []), ([], []))"
            ]
          },
          "metadata": {},
          "execution_count": 67
        },
        {
          "output_type": "display_data",
          "data": {
            "text/plain": [
              "<Figure size 1500x700 with 2 Axes>"
            ],
            "image/png": "[encoded data removed]"
          },
          "metadata": {}
        }
      ],
      "source": [
        "import cv2\n",
        "\n",
        "Uninfected='/content/Uninfected/C100P61ThinF_IMG_20150918_144104_cell_131.png'\n",
        "Parasitized='/content/Parasitized/C100P61ThinF_IMG_20150918_144104_cell_164.png'\n",
        "plt.figure(1, figsize = (15 , 7))\n",
        "plt.subplot(1 , 2 , 1)\n",
        "plt.imshow(cv2.imread(Parasitized))\n",
        "plt.title('Uninfected Cell')\n",
        "plt.xticks([]) , plt.yticks([])\n",
        "\n",
        "plt.subplot(1 , 2 , 2)\n",
        "plt.imshow(cv2.imread(Uninfected))\n",
        "plt.title('Infected Cell')\n",
        "plt.xticks([]) , plt.yticks([])"
      ]
    },
    {
      "cell_type": "code",
      "execution_count": 68,
      "metadata": {
        "id": "9xedhmxFHGE5"
      },
      "outputs": [],
      "source": [
        "datagen = ImageDataGenerator(rescale=1/255.0, validation_split=0.2)"
      ]
    },
    {
      "cell_type": "code",
      "execution_count": 50,
      "metadata": {
        "id": "5l_oLoKUHpfK"
      },
      "outputs": [],
      "source": [
        "#cp -r /content/Uninfected/. /content/cell_images/Uninfected/\n",
        "\n",
        "##rsync /content/Uninfected /content/cell_images/"
      ]
    },
    {
      "cell_type": "code",
      "execution_count": 21,
      "metadata": {
        "id": "_LEAdghCHyRo"
      },
      "outputs": [],
      "source": [
        "#cp -a /content/Parasitized/ /content/cell_images/Parasitized/\n",
        "##cp -r /content/Uninfected /content/cell_images/"
      ]
    },
    {
      "cell_type": "code",
      "execution_count": 69,
      "metadata": {
        "colab": {
          "base_uri": "https://localhost:8080/"
        },
        "id": "4GE2AJAgIh83",
        "outputId": "c9ddb37c-8426-48d6-8be6-1860be87cbec"
      },
      "outputs": [
        {
          "output_type": "stream",
          "name": "stdout",
          "text": [
            "Found 17068 images belonging to 2 classes.\n",
            "Found 4266 images belonging to 2 classes.\n"
          ]
        }
      ],
      "source": [
        "width, height = 128,128\n",
        "trainDatagen = datagen.flow_from_directory(directory='/content/cell_images/',\n",
        "                                           target_size=(width,height), class_mode = 'binary', batch_size = 16, \n",
        "                                           subset='training')\n",
        "\n",
        "valDatagen = datagen.flow_from_directory(directory='/content/cell_images/',\n",
        "                                           target_size=(width,height), class_mode = 'binary', batch_size = 16,\n",
        "                                           subset='validation')"
      ]
    },
    {
      "cell_type": "code",
      "execution_count": null,
      "metadata": {
        "id": "UsQ9xR2EJBjh"
      },
      "outputs": [],
      "source": [
        "## Model Preparition"
      ]
    },
    {
      "cell_type": "code",
      "execution_count": 70,
      "metadata": {
        "id": "sSegppW5JN2s"
      },
      "outputs": [],
      "source": [
        "model = Sequential()\n",
        "model.add(Conv2D(16,(3,3),activation='relu',input_shape=(128,128,3)))\n",
        "model.add(MaxPool2D(2,2))\n",
        "model.add(Dropout(0.2))\n",
        "\n",
        "model.add(Conv2D(32,(3,3),activation='relu'))\n",
        "model.add(MaxPool2D(2,2))\n",
        "model.add(Dropout(0.3))\n",
        "\n",
        "model.add(Conv2D(64,(3,3),activation='relu'))\n",
        "model.add(MaxPool2D(2,2))\n",
        "model.add(Dropout(0.3))\n",
        "\n",
        "model.add(Flatten())\n",
        "model.add(Dense(64,activation='relu'))\n",
        "model.add(Dropout(0.5))\n",
        "\n",
        "model.add(Dense(1,activation='sigmoid'))"
      ]
    },
    {
      "cell_type": "code",
      "execution_count": 71,
      "metadata": {
        "colab": {
          "base_uri": "https://localhost:8080/"
        },
        "id": "anFQErNAJXPw",
        "outputId": "0b81beab-3a92-4bc0-f303-d95c0971008e"
      },
      "outputs": [
        {
          "output_type": "stream",
          "name": "stdout",
          "text": [
            "Model: \"sequential_1\"\n",
            "_________________________________________________________________\n",
            " Layer (type)                Output Shape              Param #   \n",
            "=================================================================\n",
            " conv2d_3 (Conv2D)           (None, 126, 126, 16)      448       \n",
            "                                                                 \n",
            " max_pooling2d_3 (MaxPooling  (None, 63, 63, 16)       0         \n",
            " 2D)                                                             \n",
            "                                                                 \n",
            " dropout_4 (Dropout)         (None, 63, 63, 16)        0         \n",
            "                                                                 \n",
            " conv2d_4 (Conv2D)           (None, 61, 61, 32)        4640      \n",
            "                                                                 \n",
            " max_pooling2d_4 (MaxPooling  (None, 30, 30, 32)       0         \n",
            " 2D)                                                             \n",
            "                                                                 \n",
            " dropout_5 (Dropout)         (None, 30, 30, 32)        0         \n",
            "                                                                 \n",
            " conv2d_5 (Conv2D)           (None, 28, 28, 64)        18496     \n",
            "                                                                 \n",
            " max_pooling2d_5 (MaxPooling  (None, 14, 14, 64)       0         \n",
            " 2D)                                                             \n",
            "                                                                 \n",
            " dropout_6 (Dropout)         (None, 14, 14, 64)        0         \n",
            "                                                                 \n",
            " flatten_1 (Flatten)         (None, 12544)             0         \n",
            "                                                                 \n",
            " dense_2 (Dense)             (None, 64)                802880    \n",
            "                                                                 \n",
            " dropout_7 (Dropout)         (None, 64)                0         \n",
            "                                                                 \n",
            " dense_3 (Dense)             (None, 1)                 65        \n",
            "                                                                 \n",
            "=================================================================\n",
            "Total params: 826,529\n",
            "Trainable params: 826,529\n",
            "Non-trainable params: 0\n",
            "_________________________________________________________________\n"
          ]
        }
      ],
      "source": [
        "model.summary()"
      ]
    },
    {
      "cell_type": "code",
      "execution_count": 72,
      "metadata": {
        "id": "SWkEgf-8JdXx"
      },
      "outputs": [],
      "source": [
        "model.compile(optimizer='adam',loss='binary_crossentropy',metrics=['accuracy'])"
      ]
    },
    {
      "cell_type": "code",
      "execution_count": 73,
      "metadata": {
        "colab": {
          "base_uri": "https://localhost:8080/"
        },
        "id": "XMKwQTG4Jg7K",
        "outputId": "f8ba2e9d-4e17-446e-fdc7-cb07a783a8a2"
      },
      "outputs": [
        {
          "output_type": "stream",
          "name": "stdout",
          "text": [
            "Epoch 1/10\n"
          ]
        },
        {
          "output_type": "stream",
          "name": "stderr",
          "text": [
            "<ipython-input-73-11085055a438>:1: UserWarning: `Model.fit_generator` is deprecated and will be removed in a future version. Please use `Model.fit`, which supports generators.\n",
            "  history = model.fit_generator(generator = trainDatagen, steps_per_epoch = len(trainDatagen), epochs =10, validation_data = valDatagen,\n"
          ]
        },
        {
          "output_type": "stream",
          "name": "stdout",
          "text": [
            "1067/1067 [==============================] - 383s 357ms/step - loss: 0.5747 - accuracy: 0.7073 - val_loss: 0.6365 - val_accuracy: 0.6662\n",
            "Epoch 2/10\n",
            "1067/1067 [==============================] - 375s 352ms/step - loss: 0.3598 - accuracy: 0.8374 - val_loss: 0.1968 - val_accuracy: 0.9231\n",
            "Epoch 3/10\n",
            "1067/1067 [==============================] - 377s 354ms/step - loss: 0.1682 - accuracy: 0.9465 - val_loss: 0.1605 - val_accuracy: 0.9372\n",
            "Epoch 4/10\n",
            "1067/1067 [==============================] - 362s 339ms/step - loss: 0.1463 - accuracy: 0.9530 - val_loss: 0.1603 - val_accuracy: 0.9407\n",
            "Epoch 5/10\n",
            "1067/1067 [==============================] - 360s 337ms/step - loss: 0.1363 - accuracy: 0.9565 - val_loss: 0.1557 - val_accuracy: 0.9433\n",
            "Epoch 6/10\n",
            "1067/1067 [==============================] - 381s 358ms/step - loss: 0.1282 - accuracy: 0.9581 - val_loss: 0.1617 - val_accuracy: 0.9381\n",
            "Epoch 7/10\n",
            "1067/1067 [==============================] - 372s 348ms/step - loss: 0.1272 - accuracy: 0.9590 - val_loss: 0.1610 - val_accuracy: 0.9419\n",
            "Epoch 8/10\n",
            "1067/1067 [==============================] - 387s 363ms/step - loss: 0.1202 - accuracy: 0.9591 - val_loss: 0.1510 - val_accuracy: 0.9451\n",
            "Epoch 9/10\n",
            "1067/1067 [==============================] - 378s 355ms/step - loss: 0.1155 - accuracy: 0.9613 - val_loss: 0.1531 - val_accuracy: 0.9426\n",
            "Epoch 10/10\n",
            "1067/1067 [==============================] - 377s 353ms/step - loss: 0.1174 - accuracy: 0.9599 - val_loss: 0.1683 - val_accuracy: 0.9393\n"
          ]
        }
      ],
      "source": [
        "history = model.fit_generator(generator = trainDatagen, steps_per_epoch = len(trainDatagen), epochs =10, validation_data = valDatagen,\n",
        "                              validation_steps=len(valDatagen))"
      ]
    },
    {
      "cell_type": "code",
      "execution_count": null,
      "metadata": {
        "id": "ZetKOBruKF5M"
      },
      "outputs": [],
      "source": [
        "##Model Çıktıları"
      ]
    },
    {
      "cell_type": "code",
      "execution_count": 74,
      "metadata": {
        "colab": {
          "base_uri": "https://localhost:8080/",
          "height": 363
        },
        "id": "prRAc4jXJ3Gs",
        "outputId": "be2fc8a3-de5d-4a2e-f454-921d2a6ba54b"
      },
      "outputs": [
        {
          "output_type": "execute_result",
          "data": {
            "text/plain": [
              "       loss  accuracy  val_loss  val_accuracy\n",
              "0  0.574665  0.707347  0.636493      0.666198\n",
              "1  0.359798  0.837356  0.196814      0.923113\n",
              "2  0.168186  0.946508  0.160468      0.937178\n",
              "3  0.146273  0.953012  0.160334      0.940694\n",
              "4  0.136308  0.956468  0.155713      0.943272\n",
              "5  0.128164  0.958050  0.161700      0.938115\n",
              "6  0.127167  0.959046  0.160999      0.941866\n",
              "7  0.120246  0.959105  0.150987      0.945148\n",
              "8  0.115518  0.961273  0.153065      0.942569\n",
              "9  0.117388  0.959866  0.168326      0.939287"
            ],
            "text/html": [
              "\n",
              "  <div id=\"df-24238de6-7d53-4d4c-83db-ff9b00482aca\">\n",
              "    <div class=\"colab-df-container\">\n",
              "      <div>\n",
              "<style scoped>\n",
              "    .dataframe tbody tr th:only-of-type {\n",
              "        vertical-align: middle;\n",
              "    }\n",
              "\n",
              "    .dataframe tbody tr th {\n",
              "        vertical-align: top;\n",
              "    }\n",
              "\n",
              "    .dataframe thead th {\n",
              "        text-align: right;\n",
              "    }\n",
              "</style>\n",
              "<table border=\"1\" class=\"dataframe\">\n",
              "  <thead>\n",
              "    <tr style=\"text-align: right;\">\n",
              "      <th></th>\n",
              "      <th>loss</th>\n",
              "      <th>accuracy</th>\n",
              "      <th>val_loss</th>\n",
              "      <th>val_accuracy</th>\n",
              "    </tr>\n",
              "  </thead>\n",
              "  <tbody>\n",
              "    <tr>\n",
              "      <th>0</th>\n",
              "      <td>0.574665</td>\n",
              "      <td>0.707347</td>\n",
              "      <td>0.636493</td>\n",
              "      <td>0.666198</td>\n",
              "    </tr>\n",
              "    <tr>\n",
              "      <th>1</th>\n",
              "      <td>0.359798</td>\n",
              "      <td>0.837356</td>\n",
              "      <td>0.196814</td>\n",
              "      <td>0.923113</td>\n",
              "    </tr>\n",
              "    <tr>\n",
              "      <th>2</th>\n",
              "      <td>0.168186</td>\n",
              "      <td>0.946508</td>\n",
              "      <td>0.160468</td>\n",
              "      <td>0.937178</td>\n",
              "    </tr>\n",
              "    <tr>\n",
              "      <th>3</th>\n",
              "      <td>0.146273</td>\n",
              "      <td>0.953012</td>\n",
              "      <td>0.160334</td>\n",
              "      <td>0.940694</td>\n",
              "    </tr>\n",
              "    <tr>\n",
              "      <th>4</th>\n",
              "      <td>0.136308</td>\n",
              "      <td>0.956468</td>\n",
              "      <td>0.155713</td>\n",
              "      <td>0.943272</td>\n",
              "    </tr>\n",
              "    <tr>\n",
              "      <th>5</th>\n",
              "      <td>0.128164</td>\n",
              "      <td>0.958050</td>\n",
              "      <td>0.161700</td>\n",
              "      <td>0.938115</td>\n",
              "    </tr>\n",
              "    <tr>\n",
              "      <th>6</th>\n",
              "      <td>0.127167</td>\n",
              "      <td>0.959046</td>\n",
              "      <td>0.160999</td>\n",
              "      <td>0.941866</td>\n",
              "    </tr>\n",
              "    <tr>\n",
              "      <th>7</th>\n",
              "      <td>0.120246</td>\n",
              "      <td>0.959105</td>\n",
              "      <td>0.150987</td>\n",
              "      <td>0.945148</td>\n",
              "    </tr>\n",
              "    <tr>\n",
              "      <th>8</th>\n",
              "      <td>0.115518</td>\n",
              "      <td>0.961273</td>\n",
              "      <td>0.153065</td>\n",
              "      <td>0.942569</td>\n",
              "    </tr>\n",
              "    <tr>\n",
              "      <th>9</th>\n",
              "      <td>0.117388</td>\n",
              "      <td>0.959866</td>\n",
              "      <td>0.168326</td>\n",
              "      <td>0.939287</td>\n",
              "    </tr>\n",
              "  </tbody>\n",
              "</table>\n",
              "</div>\n",
              "      <button class=\"colab-df-convert\" onclick=\"convertToInteractive('df-24238de6-7d53-4d4c-83db-ff9b00482aca')\"\n",
              "              title=\"Convert this dataframe to an interactive table.\"\n",
              "              style=\"display:none;\">\n",
              "        \n",
              "  <svg xmlns=\"http://www.w3.org/2000/svg\" height=\"24px\"viewBox=\"0 0 24 24\"\n",
              "       width=\"24px\">\n",
              "    <path d=\"M0 0h24v24H0V0z\" fill=\"none\"/>\n",
              "    <path d=\"M18.56 5.44l.94 2.06.94-2.06 2.06-.94-2.06-.94-.94-2.06-.94 2.06-2.06.94zm-11 1L8.5 8.5l.94-2.06 2.06-.94-2.06-.94L8.5 2.5l-.94 2.06-2.06.94zm10 10l.94 2.06.94-2.06 2.06-.94-2.06-.94-.94-2.06-.94 2.06-2.06.94z\"/><path d=\"M17.41 7.96l-1.37-1.37c-.4-.4-.92-.59-1.43-.59-.52 0-1.04.2-1.43.59L10.3 9.45l-7.72 7.72c-.78.78-.78 2.05 0 2.83L4 21.41c.39.39.9.59 1.41.59.51 0 1.02-.2 1.41-.59l7.78-7.78 2.81-2.81c.8-.78.8-2.07 0-2.86zM5.41 20L4 18.59l7.72-7.72 1.47 1.35L5.41 20z\"/>\n",
              "  </svg>\n",
              "      </button>\n",
              "      \n",
              "  <style>\n",
              "    .colab-df-container {\n",
              "      display:flex;\n",
              "      flex-wrap:wrap;\n",
              "      gap: 12px;\n",
              "    }\n",
              "\n",
              "    .colab-df-convert {\n",
              "      background-color: #E8F0FE;\n",
              "      border: none;\n",
              "      border-radius: 50%;\n",
              "      cursor: pointer;\n",
              "      display: none;\n",
              "      fill: #1967D2;\n",
              "      height: 32px;\n",
              "      padding: 0 0 0 0;\n",
              "      width: 32px;\n",
              "    }\n",
              "\n",
              "    .colab-df-convert:hover {\n",
              "      background-color: #E2EBFA;\n",
              "      box-shadow: 0px 1px 2px rgba(60, 64, 67, 0.3), 0px 1px 3px 1px rgba(60, 64, 67, 0.15);\n",
              "      fill: #174EA6;\n",
              "    }\n",
              "\n",
              "    [theme=dark] .colab-df-convert {\n",
              "      background-color: #3B4455;\n",
              "      fill: #D2E3FC;\n",
              "    }\n",
              "\n",
              "    [theme=dark] .colab-df-convert:hover {\n",
              "      background-color: #434B5C;\n",
              "      box-shadow: 0px 1px 3px 1px rgba(0, 0, 0, 0.15);\n",
              "      filter: drop-shadow(0px 1px 2px rgba(0, 0, 0, 0.3));\n",
              "      fill: #FFFFFF;\n",
              "    }\n",
              "  </style>\n",
              "\n",
              "      <script>\n",
              "        const buttonEl =\n",
              "          document.querySelector('#df-24238de6-7d53-4d4c-83db-ff9b00482aca button.colab-df-convert');\n",
              "        buttonEl.style.display =\n",
              "          google.colab.kernel.accessAllowed ? 'block' : 'none';\n",
              "\n",
              "        async function convertToInteractive(key) {\n",
              "          const element = document.querySelector('#df-24238de6-7d53-4d4c-83db-ff9b00482aca');\n",
              "          const dataTable =\n",
              "            await google.colab.kernel.invokeFunction('convertToInteractive',\n",
              "                                                     [key], {});\n",
              "          if (!dataTable) return;\n",
              "\n",
              "          const docLinkHtml = 'Like what you see? Visit the ' +\n",
              "            '<a target=\"_blank\" href=https://colab.research.google.com/notebooks/data_table.ipynb>data table notebook</a>'\n",
              "            + ' to learn more about interactive tables.';\n",
              "          element.innerHTML = '';\n",
              "          dataTable['output_type'] = 'display_data';\n",
              "          await google.colab.output.renderOutput(dataTable, element);\n",
              "          const docLink = document.createElement('div');\n",
              "          docLink.innerHTML = docLinkHtml;\n",
              "          element.appendChild(docLink);\n",
              "        }\n",
              "      </script>\n",
              "    </div>\n",
              "  </div>\n",
              "  "
            ]
          },
          "metadata": {},
          "execution_count": 74
        }
      ],
      "source": [
        "summary = pd.DataFrame(model.history.history)\n",
        "summary"
      ]
    },
    {
      "cell_type": "code",
      "execution_count": null,
      "metadata": {
        "colab": {
          "background_save": true
        },
        "id": "9VFhNVDQKIpw"
      },
      "outputs": [],
      "source": [
        "##Görselleşrirme"
      ]
    },
    {
      "cell_type": "code",
      "execution_count": 75,
      "metadata": {
        "colab": {
          "base_uri": "https://localhost:8080/",
          "height": 927
        },
        "id": "hwTzwmI4KLI0",
        "outputId": "3ebcf50c-5d12-4b83-9dc8-46fe961f7221"
      },
      "outputs": [
        {
          "output_type": "display_data",
          "data": {
            "text/plain": [
              "<Figure size 640x480 with 1 Axes>"
            ],
            "image/png": "[encoded data removed]"
          },
          "metadata": {}
        },
        {
          "output_type": "display_data",
          "data": {
            "text/plain": [
              "<Figure size 640x480 with 1 Axes>"
            ],
            "image/png": "[encoded data removed]"
          },
          "metadata": {}
        }
      ],
      "source": [
        "import matplotlib.pyplot as plt\n",
        "%matplotlib inline \n",
        "plt.plot(history.history[\"accuracy\"])\n",
        "plt.plot(history.history[\"val_accuracy\"])\n",
        "plt.title(\"Modelaccuracy\")\n",
        "plt.ylabel(\"Accuracy\")\n",
        "plt.xlabel(\"Epoch\")\n",
        "plt.legend([\"Train\",\"Test\"],loc=\"upper left\")\n",
        "plt.show()\n",
        "\n",
        "plt.plot(history.history[\"loss\"])\n",
        "plt.plot(history.history[\"val_loss\"])\n",
        "plt.title(\"Model loss\")\n",
        "plt.ylabel(\"loss\")\n",
        "plt.xlabel(\"Epoch\")\n",
        "plt.legend([\"Train\",\"Test\"],loc=\"upper left\")\n",
        "plt.show()"
      ]
    }
  ],
  "metadata": {
    "colab": {
      "provenance": []
    },
    "kernelspec": {
      "display_name": "Python 3",
      "name": "python3"
    },
    "language_info": {
      "name": "python"
    }
  },
  "nbformat": 4,
  "nbformat_minor": 0
}